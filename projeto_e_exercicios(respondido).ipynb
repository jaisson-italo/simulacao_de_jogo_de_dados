{
 "cells": [
  {
   "cell_type": "markdown",
   "metadata": {},
   "source": [
    "# Mini-Projeto: Simulação de Jogo de Dados | Entrega (11/08 - Sexta-feira)\n",
    "\n",
    "## Objetivo\n",
    "\n",
    "Você tem a tarefa de criar uma simulação para um jogo de dados. Essa simulação tem como objetivo reunir estatísticas para analisar a justiça do jogo, possíveis resultados e fazer previsões sobre jogos futuros.\n",
    "\n",
    "## Desafios do Projeto\n",
    "\n",
    "1. **Simulação de Dados**: Crie uma função que simule o lançamento de dois dados de seis lados (valores de 1 a 6). Esta função deve retornar a soma dos resultados dos dados.\n",
    "\n",
    "2. **Múltiplas Simulações**: Use a função do passo 1 para simular um grande número de jogos de dados (digamos, 1000 jogos). Armazene o resultado de cada jogo em um array NumPy.\n",
    "\n",
    "3. **Análise de Dados**: Agora, vamos analisar os resultados desses jogos. Calcule e imprima o seguinte:\n",
    "- A média dos resultados.\n",
    "- O lançamento máximo e mínimo.\n",
    "- O número de vezes que cada possível lançamento (2, 3, 4, 5, 6, 7, 8, 9, 10, 11 e 12) ocorreu.\n",
    "- Teste de Hipótese: Agora vamos fazer um pouco de teste de hipóteses:\n",
    "  - Supondo um jogo justo (ou seja, todos os lançamentos são igualmente prováveis), o resultado da sua simulação coincide com essa suposição? Por que sim ou por que não?\n",
    "  - O que isso significa para um jogador do jogo de dados?\n",
    "\n",
    "## Entregáveis\n",
    "\n",
    "Link de um repositório no seu GitHub, contendo:\n",
    "- Um script Python (arquivo `.py` ou `.ipynb`) com a sua solução para os três desafios apresentados.\n"
   ]
  },
  {
   "cell_type": "code",
   "execution_count": 106,
   "metadata": {},
   "outputs": [],
   "source": [
    "import numpy as np\n",
    "import random"
   ]
  },
  {
   "cell_type": "code",
   "execution_count": 131,
   "metadata": {},
   "outputs": [
    {
     "name": "stdout",
     "output_type": "stream",
     "text": [
      "[5]\n",
      "[4]\n",
      "o resultado da soma é : [9]\n"
     ]
    }
   ],
   "source": [
    "#1. **Simulação de Dados**: Crie uma função que simule o lançamento de dois dados de seis lados (valores de 1 a 6).\n",
    "# Esta função deve retornar a soma dos resultados dos dados.\n",
    "def jogar_dados():\n",
    "    dado_1 =  random.randint(1,6)\n",
    "    dado_2 =  random.randint(1,6)\n",
    "    soma_dos_resultados = dado_1 + dado_2 \n",
    "    return soma_dos_resultados\n",
    "\n",
    "print(dado_1)\n",
    "print(dado_2)\n",
    "print(f\"o resultado da soma é : {soma_dos_resultados}\")\n"
   ]
  },
  {
   "cell_type": "code",
   "execution_count": 132,
   "metadata": {},
   "outputs": [
    {
     "name": "stdout",
     "output_type": "stream",
     "text": [
      "voce jogou os dados : 10 vezes .\n",
      "Array de Resultados:  [3 7 4 8 4 5 9 5 9 2]\n"
     ]
    }
   ],
   "source": [
    "# 2. **Múltiplas Simulações**: Use a função do passo 1 para simular um grande número de jogos de dados (digamos, 1000 jogos). \n",
    "#Armazene o resultado de cada jogo em um array NumPy\n",
    "\n",
    "\n",
    "numero_de_jogos = int(input('digite o numero de vezes que quer jogar os dados: '))\n",
    "resultados_jogos = []\n",
    "print(f'voce jogou os dados : {numero_de_jogos} vezes .')\n",
    "\n",
    "for i in range(numero_de_jogos):\n",
    "    resultado = jogar_dados()\n",
    "    resultados_jogos.append(resultado)\n",
    "\n",
    "\n",
    "array_resultados = np.array(resultados_jogos)\n",
    "\n",
    "print(f\"Array de Resultados:  {array_resultados}\")\n",
    "\n",
    "#resultado_jogo_dados = jogar_dados(1000)\n",
    "#print(f\"o resultado da soma é : {resultado_jogo_dados}\")\n"
   ]
  },
  {
   "cell_type": "code",
   "execution_count": 1,
   "metadata": {},
   "outputs": [
    {
     "ename": "NameError",
     "evalue": "name 'random' is not defined",
     "output_type": "error",
     "traceback": [
      "\u001b[1;31m---------------------------------------------------------------------------\u001b[0m",
      "\u001b[1;31mNameError\u001b[0m                                 Traceback (most recent call last)",
      "Cell \u001b[1;32mIn[1], line 9\u001b[0m\n\u001b[0;32m      1\u001b[0m \u001b[39m#3. **Análise de Dados**: Agora, vamos analisar os resultados desses jogos. Calcule e imprima o seguinte:\u001b[39;00m\n\u001b[0;32m      2\u001b[0m \u001b[39m#- A média dos resultados.\u001b[39;00m\n\u001b[0;32m      3\u001b[0m \u001b[39m# O lançamento máximo e mínimo.\u001b[39;00m\n\u001b[1;32m   (...)\u001b[0m\n\u001b[0;32m      6\u001b[0m  \u001b[39m# - Supondo um jogo justo (ou seja, todos os lançamentos são igualmente prováveis), o resultado da sua simulação coincide com essa suposição? Por que sim ou por que não?\u001b[39;00m\n\u001b[0;32m      7\u001b[0m   \u001b[39m#- O que isso significa para um jogador do jogo de dados?\u001b[39;00m\n\u001b[1;32m----> 9\u001b[0m random\u001b[39m.\u001b[39mseed(\u001b[39m100\u001b[39m)  \u001b[39m# Definir a mesma semente para o teste de hipótese\u001b[39;00m\n\u001b[0;32m     10\u001b[0m ocorrencias_esperadas \u001b[39m=\u001b[39m numero_de_jogos \u001b[39m/\u001b[39m \u001b[39m11\u001b[39m\n\u001b[0;32m     12\u001b[0m possivel_lancamento \u001b[39m=\u001b[39m \u001b[39mint\u001b[39m(\u001b[39minput\u001b[39m(\u001b[39m'\u001b[39m\u001b[39mdigite o numero que deseja ver quantas vezes ele apareceu: \u001b[39m\u001b[39m'\u001b[39m))\n",
      "\u001b[1;31mNameError\u001b[0m: name 'random' is not defined"
     ]
    }
   ],
   "source": [
    "#3. **Análise de Dados**: Agora, vamos analisar os resultados desses jogos. Calcule e imprima o seguinte:\n",
    "#- A média dos resultados.\n",
    "# O lançamento máximo e mínimo.\n",
    "#- O número de vezes que cada possível lançamento (2, 3, 4, 5, 6, 7, 8, 9, 10, 11 e 12) ocorreu.\n",
    "# Teste de Hipótese: Agora vamos fazer um pouco de teste de hipóteses:\n",
    " # - Supondo um jogo justo (ou seja, todos os lançamentos são igualmente prováveis), o resultado da sua simulação coincide com essa suposição? Por que sim ou por que não?\n",
    "  #- O que isso significa para um jogador do jogo de dados?\n",
    "\n",
    "random.seed(100)  # Definir a mesma semente para o teste de hipótese\n",
    "ocorrencias_esperadas = numero_de_jogos / 11\n",
    "\n",
    "possivel_lancamento = int(input('digite o numero que deseja ver quantas vezes ele apareceu: '))\n",
    "numero_de_vezes = np.count_nonzero(array_resultados == possivel_lancamento)\n",
    "\n",
    "print(np.mean(array_resultados))#media\n",
    "print(np.max(array_resultados))\n",
    "print(np.min(array_resultados))\n",
    "\n",
    "print(numero_de_vezes)"
   ]
  }
 ],
 "metadata": {
  "kernelspec": {
   "display_name": "Python 3",
   "language": "python",
   "name": "python3"
  },
  "language_info": {
   "codemirror_mode": {
    "name": "ipython",
    "version": 3
   },
   "file_extension": ".py",
   "mimetype": "text/x-python",
   "name": "python",
   "nbconvert_exporter": "python",
   "pygments_lexer": "ipython3",
   "version": "3.11.3"
  },
  "orig_nbformat": 4
 },
 "nbformat": 4,
 "nbformat_minor": 2
}
