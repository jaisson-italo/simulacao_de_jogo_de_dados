{
 "cells": [
  {
   "cell_type": "markdown",
   "metadata": {},
   "source": [
    "# Mini-Projeto: Simulação de Jogo de Dados | Entrega (11/08 - Sexta-feira)\n",
    "\n",
    "## Objetivo\n",
    "\n",
    "Você tem a tarefa de criar uma simulação para um jogo de dados. Essa simulação tem como objetivo reunir estatísticas para analisar a justiça do jogo, possíveis resultados e fazer previsões sobre jogos futuros.\n",
    "\n",
    "## Desafios do Projeto\n",
    "\n",
    "1. **Simulação de Dados**: Crie uma função que simule o lançamento de dois dados de seis lados (valores de 1 a 6). Esta função deve retornar a soma dos resultados dos dados.\n",
    "\n",
    "2. **Múltiplas Simulações**: Use a função do passo 1 para simular um grande número de jogos de dados (digamos, 1000 jogos). Armazene o resultado de cada jogo em um array NumPy.\n",
    "\n",
    "3. **Análise de Dados**: Agora, vamos analisar os resultados desses jogos. Calcule e imprima o seguinte:\n",
    "- A média dos resultados.\n",
    "- O lançamento máximo e mínimo.\n",
    "- O número de vezes que cada possível lançamento (2, 3, 4, 5, 6, 7, 8, 9, 10, 11 e 12) ocorreu.\n",
    "- Teste de Hipótese: Agora vamos fazer um pouco de teste de hipóteses:\n",
    "  - Supondo um jogo justo (ou seja, todos os lançamentos são igualmente prováveis), o resultado da sua simulação coincide com essa suposição? Por que sim ou por que não?\n",
    "  - O que isso significa para um jogador do jogo de dados?\n",
    "\n",
    "## Entregáveis\n",
    "\n",
    "Link de um repositório no seu GitHub, contendo:\n",
    "- Um script Python (arquivo `.py` ou `.ipynb`) com a sua solução para os três desafios apresentados.\n"
   ]
  },
  {
   "cell_type": "code",
   "execution_count": 1,
   "metadata": {},
   "outputs": [],
   "source": [
    "import numpy as np\n",
    "import random"
   ]
  },
  {
   "cell_type": "code",
   "execution_count": 19,
   "metadata": {},
   "outputs": [],
   "source": [
    "#1. **Simulação de Dados**: Crie uma função que simule o lançamento de dois dados de seis lados (valores de 1 a 6).\n",
    "# Esta função deve retornar a soma dos resultados dos dados.\n",
    "def jogar_dados():\n",
    "    dado_1 =  np.random.randint(1,6)\n",
    "    dado_2 =  np.random.randint(1,6)\n",
    "    soma_dos_resultados = dado_1 + dado_2 \n",
    "    return soma_dos_resultados\n",
    "\n",
    "\n"
   ]
  },
  {
   "cell_type": "code",
   "execution_count": 48,
   "metadata": {},
   "outputs": [
    {
     "name": "stdout",
     "output_type": "stream",
     "text": [
      "voce jogou os dados : 60 vezes .\n",
      "Array de Resultados:  [ 7  6  4  6  6 10  6  5  9  5  7  7  3  9  6  4  6  3  3  6  8  7  8  8\n",
      " 10  9  3  3  6 10  8  7  5  3  6  9  9  9  9  9  6  9  6  5  8 10  8  7\n",
      "  7  6  2  5  4  7  5  2  5  7  6  7]\n"
     ]
    }
   ],
   "source": [
    "# 2. **Múltiplas Simulações**: Use a função do passo 1 para simular um grande número de jogos de dados (digamos, 1000 jogos). \n",
    "#Armazene o resultado de cada jogo em um array NumPy\n",
    "\n",
    "\n",
    "numero_de_jogos = int(input('digite o numero de vezes que quer jogar os dados: '))\n",
    "resultados_jogos = []\n",
    "print(f'voce jogou os dados : {numero_de_jogos} vezes .')\n",
    "\n",
    "for i in range(numero_de_jogos):\n",
    "    resultado = jogar_dados()\n",
    "    resultados_jogos.append(resultado)\n",
    "\n",
    "\n",
    "array_resultados = np.array(resultados_jogos)\n",
    "\n",
    "print(f\"Array de Resultados:  {array_resultados}\")\n",
    "\n"
   ]
  },
  {
   "cell_type": "markdown",
   "metadata": {},
   "source": [
    "3. **Análise de Dados**: Agora, vamos analisar os resultados desses jogos. Calcule e imprima o seguinte:\n",
    "- A média dos resultados.\n",
    "O lançamento máximo e mínimo.\n",
    "- O número de vezes que cada possível lançamento (2, 3, 4, 5, 6, 7, 8, 9, 10, 11 e 12) ocorreu.\n"
   ]
  },
  {
   "cell_type": "code",
   "execution_count": 49,
   "metadata": {},
   "outputs": [
    {
     "name": "stdout",
     "output_type": "stream",
     "text": [
      "a media das somas dos dados é:  6.433333333333334\n",
      "o maior resultado das somas dos dados é:  10\n",
      "o menor resultado das somas dos dados é:  2\n",
      "o numero 60 apreceu:  0 vezes.\n"
     ]
    }
   ],
   "source": [
    "\n",
    "\n",
    "random.seed(100)  # Definir a mesma semente para o teste de hipótese\n",
    "ocorrencias_esperadas = numero_de_jogos / 11\n",
    "\n",
    "possivel_lancamento = int(input('digite o numero que deseja ver quantas vezes ele apareceu: '))\n",
    "numero_de_vezes = np.count_nonzero(array_resultados == possivel_lancamento)\n",
    "\n",
    "print('a media das somas dos dados é: ', np.mean(array_resultados))#media\n",
    "print('o maior resultado das somas dos dados é: ', np.max(array_resultados))\n",
    "print('o menor resultado das somas dos dados é: ', np.min(array_resultados))\n",
    "\n",
    "print(f'o numero {possivel_lancamento} apreceu: ', numero_de_vezes, 'vezes.')\n"
   ]
  },
  {
   "cell_type": "markdown",
   "metadata": {},
   "source": [
    "continuação da terceira\n",
    "\n",
    "Teste de Hipótese: Agora vamos fazer um pouco de teste de hipóteses:\n",
    "  - Supondo um jogo justo (ou seja, todos os lançamentos são igualmente prováveis), o resultado da sua simulação coincide com essa suposição? Por que sim ou por que não?\n",
    "  - O que isso significa para um jogador do jogo de dados?"
   ]
  },
  {
   "cell_type": "code",
   "execution_count": 50,
   "metadata": {},
   "outputs": [
    {
     "data": {
      "text/plain": [
       "10"
      ]
     },
     "execution_count": 50,
     "metadata": {},
     "output_type": "execute_result"
    }
   ],
   "source": [
    "np.random.seed(30)\n",
    "teste_de_hipotese = jogar_dados()\n",
    "\n",
    "teste_de_hipotese"
   ]
  },
  {
   "cell_type": "markdown",
   "metadata": {},
   "source": [
    "o jogo em si e justo, visto que a probabilidade de cair os numeros sao a mesma em cada dado.\n",
    "\n",
    "o resultado nao Coincidiu com minha suposição, apos alguns teste notei que por causa da soma dos valores pode ocorrer que alguns numeros caiam mais do que outros.\n",
    "\n",
    "Para o jogador significa que apos algumas jogadas ele tera mais chance de sair alguns numeros(soma dos valores dos dados ) mais que outras."
   ]
  }
 ],
 "metadata": {
  "kernelspec": {
   "display_name": "Python 3",
   "language": "python",
   "name": "python3"
  },
  "language_info": {
   "codemirror_mode": {
    "name": "ipython",
    "version": 3
   },
   "file_extension": ".py",
   "mimetype": "text/x-python",
   "name": "python",
   "nbconvert_exporter": "python",
   "pygments_lexer": "ipython3",
   "version": "3.11.3"
  },
  "orig_nbformat": 4
 },
 "nbformat": 4,
 "nbformat_minor": 2
}
